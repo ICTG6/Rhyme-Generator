{
 "cells": [
  {
   "cell_type": "markdown",
   "metadata": {},
   "source": [
    "# Background"
   ]
  },
  {
   "cell_type": "markdown",
   "metadata": {},
   "source": [
    "We will prepare the dataset used for analysis in this notebook. \n",
    "\n",
    "- Data source: kworb.net\n",
    "- Lyrics source: Genius API"
   ]
  },
  {
   "cell_type": "markdown",
   "metadata": {},
   "source": [
    "# Import Libraries and Data"
   ]
  },
  {
   "cell_type": "code",
   "execution_count": 78,
   "metadata": {},
   "outputs": [],
   "source": [
    "import pandas as pd\n",
    "import lyricsgenius\n",
    "import swifter\n",
    "from tqdm import tqdm\n",
    "tqdm.pandas()\n",
    "\n",
    "genius_token = 'Kmf4BpK5CCTxUSjp4n4PKmEX3pc-WCgAmEXzq63hn9nyJRGINvT-v6xrWZcWgBZq'\n",
    "genius = lyricsgenius.Genius(genius_token)"
   ]
  },
  {
   "cell_type": "code",
   "execution_count": 3,
   "metadata": {},
   "outputs": [],
   "source": [
    "df_sg = pd.read_html('https://kworb.net/spotify/country/sg_daily_totals.html')[0]"
   ]
  },
  {
   "cell_type": "code",
   "execution_count": 5,
   "metadata": {
    "scrolled": true
   },
   "outputs": [
    {
     "data": {
      "text/plain": [
       "(4846, 8)"
      ]
     },
     "execution_count": 5,
     "metadata": {},
     "output_type": "execute_result"
    }
   ],
   "source": [
    "df_sg.shape"
   ]
  },
  {
   "cell_type": "markdown",
   "metadata": {},
   "source": [
    "# Preprocessing"
   ]
  },
  {
   "cell_type": "code",
   "execution_count": 8,
   "metadata": {},
   "outputs": [],
   "source": [
    "df_sg = df_sg[['Artist and Title', 'Days', 'Total']]"
   ]
  },
  {
   "cell_type": "code",
   "execution_count": null,
   "metadata": {},
   "outputs": [],
   "source": []
  },
  {
   "cell_type": "code",
   "execution_count": 20,
   "metadata": {},
   "outputs": [],
   "source": [
    "df_sg.loc[:,'artist'] = df_sg['Artist and Title'].apply(lambda x: x.split('-')[0].strip())\n",
    "df_sg.loc[:,'song'] = df_sg['Artist and Title'].apply(lambda x: x.split('-')[1].strip())"
   ]
  },
  {
   "cell_type": "code",
   "execution_count": 21,
   "metadata": {
    "scrolled": true
   },
   "outputs": [
    {
     "data": {
      "text/html": [
       "<div>\n",
       "<style scoped>\n",
       "    .dataframe tbody tr th:only-of-type {\n",
       "        vertical-align: middle;\n",
       "    }\n",
       "\n",
       "    .dataframe tbody tr th {\n",
       "        vertical-align: top;\n",
       "    }\n",
       "\n",
       "    .dataframe thead th {\n",
       "        text-align: right;\n",
       "    }\n",
       "</style>\n",
       "<table border=\"1\" class=\"dataframe\">\n",
       "  <thead>\n",
       "    <tr style=\"text-align: right;\">\n",
       "      <th></th>\n",
       "      <th>Artist and Title</th>\n",
       "      <th>Days</th>\n",
       "      <th>Total</th>\n",
       "      <th>artist</th>\n",
       "      <th>song</th>\n",
       "    </tr>\n",
       "  </thead>\n",
       "  <tbody>\n",
       "    <tr>\n",
       "      <th>0</th>\n",
       "      <td>Ed Sheeran - Shape of You</td>\n",
       "      <td>1368</td>\n",
       "      <td>25899658</td>\n",
       "      <td>Ed Sheeran</td>\n",
       "      <td>Shape of You</td>\n",
       "    </tr>\n",
       "    <tr>\n",
       "      <th>1</th>\n",
       "      <td>James Arthur - Say You Won't Let Go</td>\n",
       "      <td>1474</td>\n",
       "      <td>23357304</td>\n",
       "      <td>James Arthur</td>\n",
       "      <td>Say You Won't Let Go</td>\n",
       "    </tr>\n",
       "    <tr>\n",
       "      <th>2</th>\n",
       "      <td>The Chainsmokers - Closer</td>\n",
       "      <td>1516</td>\n",
       "      <td>22281902</td>\n",
       "      <td>The Chainsmokers</td>\n",
       "      <td>Closer</td>\n",
       "    </tr>\n",
       "    <tr>\n",
       "      <th>3</th>\n",
       "      <td>Ed Sheeran - Photograph</td>\n",
       "      <td>2128</td>\n",
       "      <td>21285275</td>\n",
       "      <td>Ed Sheeran</td>\n",
       "      <td>Photograph</td>\n",
       "    </tr>\n",
       "    <tr>\n",
       "      <th>4</th>\n",
       "      <td>Ed Sheeran - Perfect</td>\n",
       "      <td>1313</td>\n",
       "      <td>20660602</td>\n",
       "      <td>Ed Sheeran</td>\n",
       "      <td>Perfect</td>\n",
       "    </tr>\n",
       "  </tbody>\n",
       "</table>\n",
       "</div>"
      ],
      "text/plain": [
       "                      Artist and Title  Days     Total            artist  \\\n",
       "0            Ed Sheeran - Shape of You  1368  25899658        Ed Sheeran   \n",
       "1  James Arthur - Say You Won't Let Go  1474  23357304      James Arthur   \n",
       "2            The Chainsmokers - Closer  1516  22281902  The Chainsmokers   \n",
       "3              Ed Sheeran - Photograph  2128  21285275        Ed Sheeran   \n",
       "4                 Ed Sheeran - Perfect  1313  20660602        Ed Sheeran   \n",
       "\n",
       "                   song  \n",
       "0          Shape of You  \n",
       "1  Say You Won't Let Go  \n",
       "2                Closer  \n",
       "3            Photograph  \n",
       "4               Perfect  "
      ]
     },
     "execution_count": 21,
     "metadata": {},
     "output_type": "execute_result"
    }
   ],
   "source": [
    "df_sg.head()"
   ]
  },
  {
   "cell_type": "code",
   "execution_count": 37,
   "metadata": {},
   "outputs": [
    {
     "data": {
      "text/plain": [
       "Artist and Title    0\n",
       "Days                0\n",
       "Total               0\n",
       "artist              0\n",
       "song                0\n",
       "dtype: int64"
      ]
     },
     "execution_count": 37,
     "metadata": {},
     "output_type": "execute_result"
    }
   ],
   "source": [
    "df_sg.isnull().sum()"
   ]
  },
  {
   "cell_type": "code",
   "execution_count": 80,
   "metadata": {},
   "outputs": [],
   "source": [
    "def get_lyrics(song, artist):\n",
    "    try:\n",
    "        song_obj = genius.search_song(song, artist)\n",
    "        output = song_obj.lyrics\n",
    "    except (AttributeError, TypeError):\n",
    "        output = ''\n",
    "    return output"
   ]
  },
  {
   "cell_type": "code",
   "execution_count": 74,
   "metadata": {},
   "outputs": [],
   "source": [
    "df_temp = df_sg.loc[:10]"
   ]
  },
  {
   "cell_type": "code",
   "execution_count": 86,
   "metadata": {
    "scrolled": true
   },
   "outputs": [],
   "source": [
    "# %%time\n",
    "# df_sg['lyrics'] = df_sg.progress_apply(lambda row: get_lyrics(row['song'], row['artist']), axis=1);"
   ]
  },
  {
   "cell_type": "code",
   "execution_count": 83,
   "metadata": {},
   "outputs": [
    {
     "data": {
      "text/plain": [
       "0       [Verse 1]\\nThe club isn't the best place to fi...\n",
       "1       [Verse 1]\\nI met you in the dark\\nYou lit me u...\n",
       "2       [Verse 1: Andrew Taggart]\\nHey, I was doing ju...\n",
       "3       [Verse 1]\\nLoving can hurt, loving can hurt so...\n",
       "4       [Verse 1]\\nI found a love for me\\nOh darling, ...\n",
       "                              ...                        \n",
       "4841    [Verse 1: Pharrell Williams]\\nLike the legend ...\n",
       "4842    [Intro: Swae Lee]\\nYeah\\nEarDrummers\\nBad bitc...\n",
       "4843    We certainly are underspoken and understanding...\n",
       "4844                                                     \n",
       "4845    [Intro: Joey Bada$$]\\nYeah, momma I just booke...\n",
       "Name: lyrics, Length: 4846, dtype: object"
      ]
     },
     "execution_count": 83,
     "metadata": {},
     "output_type": "execute_result"
    }
   ],
   "source": [
    "df_sg['lyrics']"
   ]
  },
  {
   "cell_type": "code",
   "execution_count": 85,
   "metadata": {},
   "outputs": [],
   "source": [
    "df_sg.to_csv('../data/processed/top_sg_spotify_songs_2020.csv')"
   ]
  }
 ],
 "metadata": {
  "kernelspec": {
   "display_name": "Python 3",
   "language": "python",
   "name": "python3"
  },
  "language_info": {
   "codemirror_mode": {
    "name": "ipython",
    "version": 3
   },
   "file_extension": ".py",
   "mimetype": "text/x-python",
   "name": "python",
   "nbconvert_exporter": "python",
   "pygments_lexer": "ipython3",
   "version": "3.8.3"
  }
 },
 "nbformat": 4,
 "nbformat_minor": 4
}
