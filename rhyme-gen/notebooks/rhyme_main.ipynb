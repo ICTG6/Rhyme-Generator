{
 "cells": [
  {
   "cell_type": "markdown",
   "metadata": {},
   "source": [
    "# Background"
   ]
  },
  {
   "cell_type": "markdown",
   "metadata": {},
   "source": [
    "Have you ever got stuck at how you wanted your next word to rhyme with your previous line? In this notebook, you will find a solution to find rhymes for your next line. The main idea of this solution is to help propose words that rhymes with your input. You could use it for writing poetry or writing song lyrics. You can check if they rhyme or not afterwards. "
   ]
  },
  {
   "cell_type": "markdown",
   "metadata": {},
   "source": [
    "---"
   ]
  },
  {
   "cell_type": "markdown",
   "metadata": {
    "id": "aESBrWfcwvHb"
   },
   "source": [
    "# Import Libraries"
   ]
  },
  {
   "cell_type": "code",
   "execution_count": 1,
   "metadata": {
    "colab": {
     "base_uri": "https://localhost:8080/"
    },
    "executionInfo": {
     "elapsed": 3380,
     "status": "ok",
     "timestamp": 1607188811826,
     "user": {
      "displayName": "Tomiris Mukhamedgaliyeva",
      "photoUrl": "https://lh3.googleusercontent.com/a-/AOh14GjT6vf2PtOyGe7JX2RNvaYVv-F1OYoNHISquCYokYU=s64",
      "userId": "17541737561831370854"
     },
     "user_tz": -480
    },
    "id": "cIXc8dU7pXyB",
    "outputId": "402fdbe4-a619-4257-a873-64fb40e80bf2"
   },
   "outputs": [
    {
     "name": "stderr",
     "output_type": "stream",
     "text": [
      "[nltk_data] Downloading package cmudict to\n",
      "[nltk_data]     /Users/longwind48/nltk_data...\n",
      "[nltk_data]   Unzipping corpora/cmudict.zip.\n"
     ]
    },
    {
     "data": {
      "text/plain": [
       "True"
      ]
     },
     "execution_count": 1,
     "metadata": {},
     "output_type": "execute_result"
    }
   ],
   "source": [
    "import nltk\n",
    "nltk.download('cmudict')"
   ]
  },
  {
   "cell_type": "markdown",
   "metadata": {
    "id": "agGkvXSJxQ_-"
   },
   "source": [
    "# User-Defined Functions"
   ]
  },
  {
   "cell_type": "markdown",
   "metadata": {
    "id": "PAgKNgIcygVd"
   },
   "source": [
    "2.1. Get Rhymes"
   ]
  },
  {
   "cell_type": "code",
   "execution_count": 16,
   "metadata": {
    "executionInfo": {
     "elapsed": 3377,
     "status": "ok",
     "timestamp": 1607188811827,
     "user": {
      "displayName": "Tomiris Mukhamedgaliyeva",
      "photoUrl": "https://lh3.googleusercontent.com/a-/AOh14GjT6vf2PtOyGe7JX2RNvaYVv-F1OYoNHISquCYokYU=s64",
      "userId": "17541737561831370854"
     },
     "user_tz": -480
    },
    "id": "ctrrFJV7uYTn"
   },
   "outputs": [],
   "source": [
    "# Check words\n",
    "def is_same(word1, word2):\n",
    "    return word1==word2"
   ]
  },
  {
   "cell_type": "code",
   "execution_count": 17,
   "metadata": {},
   "outputs": [
    {
     "data": {
      "text/plain": [
       "True"
      ]
     },
     "execution_count": 17,
     "metadata": {},
     "output_type": "execute_result"
    }
   ],
   "source": [
    "is_same('hello', 'hello')"
   ]
  },
  {
   "cell_type": "code",
   "execution_count": 18,
   "metadata": {},
   "outputs": [
    {
     "data": {
      "text/plain": [
       "False"
      ]
     },
     "execution_count": 18,
     "metadata": {},
     "output_type": "execute_result"
    }
   ],
   "source": [
    "is_same('hello', 'kello')"
   ]
  },
  {
   "cell_type": "code",
   "execution_count": 38,
   "metadata": {},
   "outputs": [],
   "source": [
    "def get_rhyme(user_inp_word, level):\n",
    "    l_rhymes = []\n",
    "    entries = nltk.corpus.cmudict.entries()\n",
    "    #get the syllabus\n",
    "    word_syl_tup_l = [(corpus_word, syl) for corpus_word, syl in entries if is_same(corpus_word, user_inp_word)]\n",
    "    for (input_word, syllable_list) in word_syl_tup_l:\n",
    "        l_rhymes += [corpus_word for corpus_word, transcriptions in entries if (is_same(transcriptions[-level:], syllable_list[-level:]))]      \n",
    "    return list(set(l_rhymes))"
   ]
  },
  {
   "cell_type": "code",
   "execution_count": 41,
   "metadata": {},
   "outputs": [
    {
     "data": {
      "text/plain": [
       "['edell', 'whistle', 'yale', 'legible', 'hunnell']"
      ]
     },
     "execution_count": 41,
     "metadata": {},
     "output_type": "execute_result"
    }
   ],
   "source": [
    "rhymes_temp = get_rhyme('apple', 1)\n",
    "rhymes_temp[:5]"
   ]
  },
  {
   "cell_type": "code",
   "execution_count": 57,
   "metadata": {
    "executionInfo": {
     "elapsed": 3362,
     "status": "ok",
     "timestamp": 1607188811830,
     "user": {
      "displayName": "Tomiris Mukhamedgaliyeva",
      "photoUrl": "https://lh3.googleusercontent.com/a-/AOh14GjT6vf2PtOyGe7JX2RNvaYVv-F1OYoNHISquCYokYU=s64",
      "userId": "17541737561831370854"
     },
     "user_tz": -480
    },
    "id": "z8-tdPvXa5CP"
   },
   "outputs": [],
   "source": [
    "def rhyme_or_not(firstword, secondword):\n",
    "    return firstword in get_rhyme(secondword, 1)"
   ]
  },
  {
   "cell_type": "code",
   "execution_count": null,
   "metadata": {},
   "outputs": [],
   "source": []
  },
  {
   "cell_type": "markdown",
   "metadata": {
    "id": "DmGHUJEo_tBW"
   },
   "source": [
    "# Demo"
   ]
  },
  {
   "cell_type": "code",
   "execution_count": 61,
   "metadata": {
    "colab": {
     "base_uri": "https://localhost:8080/"
    },
    "executionInfo": {
     "elapsed": 7340,
     "status": "ok",
     "timestamp": 1607190928134,
     "user": {
      "displayName": "Tomiris Mukhamedgaliyeva",
      "photoUrl": "https://lh3.googleusercontent.com/a-/AOh14GjT6vf2PtOyGe7JX2RNvaYVv-F1OYoNHISquCYokYU=s64",
      "userId": "17541737561831370854"
     },
     "user_tz": -480
    },
    "id": "62V1iIJLpXyC",
    "outputId": "9853833a-9e6e-4e03-952f-fbc0e7e66ad4"
   },
   "outputs": [
    {
     "name": "stdout",
     "output_type": "stream",
     "text": [
      "Enter word:apple\n",
      "Enter Level of how good the rhyme is (0, 1, 2):2\n",
      "\n",
      "['finkel', 'nuxoll', 'covel', 'whistle', 'probable', 'legible', 'unintentional', 'virginal', 'hanzel', 'hunnell', 'birchall', 'natal', 'oberle', 'hable', 'belisle', 'borell', 'mapel', 'senecal', 'blaisdell', 'biaxial', 'racal', 'disreputable', 'natural', 'immutable', 'kristall', 'carnell', 'dwinell', 'kuffel', 'littoral', 'unknowable', 'knievel', 'boral', 'cheryl', 'friedl', 'quibble', 'asexual', 'hadsall', 'drechsel', 'sociological', 'fluxional', 'pershall', 'returnable', 'snuggle', 'shankle', 'caple', 'hample', 'gabrall', 'defensible', 'shamble', 'bagnall']\n"
     ]
    }
   ],
   "source": [
    "a = str(input('Enter word:'))\n",
    "b = int(input('Enter Level of how good the rhyme is (0, 1, 2):'))\n",
    "userinput = get_rhyme(a,b)\n",
    "print(f'\\n{userinput[:50]}')"
   ]
  },
  {
   "cell_type": "code",
   "execution_count": 62,
   "metadata": {},
   "outputs": [
    {
     "name": "stdout",
     "output_type": "stream",
     "text": [
      "Enter first word:apple\n",
      "Enter second word:like\n",
      "\n",
      "False\n"
     ]
    }
   ],
   "source": [
    "a = str(input('Enter first word:'))\n",
    "B = str(input('Enter second word:'))\n",
    "\n",
    "print(f'\\n{rhyme_or_not(a,b)}')"
   ]
  },
  {
   "cell_type": "markdown",
   "metadata": {},
   "source": [
    "# Final Thoughts"
   ]
  },
  {
   "cell_type": "markdown",
   "metadata": {},
   "source": [
    "*   ***nltk.corpus*** > Corpus is a collection of written text \n",
    "*   ***ntlk.corpus.cmudict*** > The Carnegie Mellon University Pronouncing Dictionary [cmudict.0.6]\n",
    "File Format: Each line consists of an uppercased word, a counter (for alternative pronunciations), and a transcription. Vowels are marked for stress (1=primary, 2=secondary, 0=no stress). \n",
    "E.g.: NATURAL 1 N AE1 CH ER0 AH0 L\n",
    "*   ***nltk.corpis.cmudict.entries()*** > \n",
    "Returns\n",
    "the cmudict lexicon as a list of entries\n",
    "containing (word, transcriptions) tuples.\n",
    "\n",
    "* The transcriptions are mapped from the word to the pronunciations in the ARPAbet phoneme set. "
   ]
  },
  {
   "cell_type": "markdown",
   "metadata": {},
   "source": [
    "---"
   ]
  },
  {
   "cell_type": "markdown",
   "metadata": {},
   "source": [
    "The objective of this notebook is to explore how to get rhymes from `Carnegie Mellon Pronouncing Dictionary Corpus Reader` class. \n",
    "\n",
    "We are aware that there is already an existing python library [pronouncingpy](https://github.com/aparrish/pronouncingpy), that returns rhymes based on the CMU Pronouncing Dictionary. \n",
    "\n"
   ]
  },
  {
   "source": [
    "As it is our first project, there were a few takeaways that we took with us. \n",
    "\n",
    "1. We found that doing appropriate reserach is important. \n",
    "2. Learning to set deadlines for ourselves and meeting them. \n",
    "3. Not every single step applies in all project across the board. \n",
    "\n",
    "We also faced some challenges along the way. \n",
    "\n",
    "1. Finding the appropriate dataset. \n",
    "We decided to web scrape as shown in Scraping_method notebook to gather our datsset. It only worked for the words that we can find in our dataset. However, it is not what we wanted. \n",
    "\n",
    "2. Learning how to define functions instead of consistently using if-else statements like in Prototype_rhymes notebook. "
   ],
   "cell_type": "markdown",
   "metadata": {}
  }
 ],
 "metadata": {
  "colab": {
   "collapsed_sections": [],
   "name": "Rhyme ICTG6.ipynb",
   "provenance": []
  },
  "kernelspec": {
   "display_name": "Python 3",
   "language": "python",
   "name": "python3"
  },
  "language_info": {
   "codemirror_mode": {
    "name": "ipython",
    "version": 3
   },
   "file_extension": ".py",
   "mimetype": "text/x-python",
   "name": "python",
   "nbconvert_exporter": "python",
   "pygments_lexer": "ipython3",
   "version": "3.8.3"
  }
 },
 "nbformat": 4,
 "nbformat_minor": 1
}