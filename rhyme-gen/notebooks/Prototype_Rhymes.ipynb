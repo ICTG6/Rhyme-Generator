{
 "cells": [
  {
   "cell_type": "markdown",
   "metadata": {},
   "source": [
    "# Background"
   ]
  },
  {
   "cell_type": "markdown",
   "metadata": {},
   "source": [
    "Insert your introduction on what this notebook is about.\n",
    "What are the objectives of this notebook."
   ]
  },
  {
   "cell_type": "markdown",
   "metadata": {
    "id": "Fz65GOxF3lvU"
   },
   "source": [
    "# Import Libraries\n"
   ]
  },
  {
   "cell_type": "code",
   "execution_count": 1,
   "metadata": {
    "executionInfo": {
     "elapsed": 2432,
     "status": "ok",
     "timestamp": 1606913149991,
     "user": {
      "displayName": "Tomiris Mukhamedgaliyeva",
      "photoUrl": "https://lh3.googleusercontent.com/a-/AOh14GjT6vf2PtOyGe7JX2RNvaYVv-F1OYoNHISquCYokYU=s64",
      "userId": "17541737561831370854"
     },
     "user_tz": -480
    },
    "id": "HiQwZ8BvSDhG"
   },
   "outputs": [],
   "source": [
    "import pandas as pd"
   ]
  },
  {
   "cell_type": "markdown",
   "metadata": {
    "id": "IlB0M1Tk3wmF"
   },
   "source": [
    "# Import CSV Files"
   ]
  },
  {
   "cell_type": "code",
   "execution_count": 4,
   "metadata": {
    "colab": {
     "base_uri": "https://localhost:8080/",
     "height": 443
    },
    "executionInfo": {
     "elapsed": 2808,
     "status": "error",
     "timestamp": 1606913150370,
     "user": {
      "displayName": "Tomiris Mukhamedgaliyeva",
      "photoUrl": "https://lh3.googleusercontent.com/a-/AOh14GjT6vf2PtOyGe7JX2RNvaYVv-F1OYoNHISquCYokYU=s64",
      "userId": "17541737561831370854"
     },
     "user_tz": -480
    },
    "id": "thP5JhpPY_M6",
    "outputId": "c6e98d30-e9a1-40cc-da8d-778f2327b5f9"
   },
   "outputs": [
    {
     "ename": "FileNotFoundError",
     "evalue": "ignored",
     "output_type": "error",
     "traceback": [
      "\u001b[0;31m---------------------------------------------------------------------------\u001b[0m",
      "\u001b[0;31mFileNotFoundError\u001b[0m                         Traceback (most recent call last)",
      "\u001b[0;32m<ipython-input-4-9266c3cb0215>\u001b[0m in \u001b[0;36m<module>\u001b[0;34m()\u001b[0m\n\u001b[0;32m----> 1\u001b[0;31m \u001b[0mraw_air\u001b[0m \u001b[0;34m=\u001b[0m \u001b[0mpd\u001b[0m\u001b[0;34m.\u001b[0m\u001b[0mread_csv\u001b[0m\u001b[0;34m(\u001b[0m\u001b[0;34m'air_rhyme.csv'\u001b[0m\u001b[0;34m)\u001b[0m\u001b[0;34m\u001b[0m\u001b[0;34m\u001b[0m\u001b[0m\n\u001b[0m\u001b[1;32m      2\u001b[0m \u001b[0mraw_all\u001b[0m \u001b[0;34m=\u001b[0m \u001b[0mpd\u001b[0m\u001b[0;34m.\u001b[0m\u001b[0mread_csv\u001b[0m\u001b[0;34m(\u001b[0m\u001b[0;34m'all_rhyme.csv'\u001b[0m\u001b[0;34m)\u001b[0m\u001b[0;34m\u001b[0m\u001b[0;34m\u001b[0m\u001b[0m\n\u001b[1;32m      3\u001b[0m \u001b[0mraw_blue\u001b[0m \u001b[0;34m=\u001b[0m \u001b[0mpd\u001b[0m\u001b[0;34m.\u001b[0m\u001b[0mread_csv\u001b[0m\u001b[0;34m(\u001b[0m\u001b[0;34m'blue_rhyme.csv'\u001b[0m\u001b[0;34m)\u001b[0m\u001b[0;34m\u001b[0m\u001b[0;34m\u001b[0m\u001b[0m\n\u001b[1;32m      4\u001b[0m \u001b[0mraw_chance\u001b[0m \u001b[0;34m=\u001b[0m \u001b[0mpd\u001b[0m\u001b[0;34m.\u001b[0m\u001b[0mread_csv\u001b[0m\u001b[0;34m(\u001b[0m\u001b[0;34m'chance_rhyme.csv'\u001b[0m\u001b[0;34m)\u001b[0m\u001b[0;34m\u001b[0m\u001b[0;34m\u001b[0m\u001b[0m\n\u001b[1;32m      5\u001b[0m \u001b[0mraw_fire\u001b[0m \u001b[0;34m=\u001b[0m \u001b[0mpd\u001b[0m\u001b[0;34m.\u001b[0m\u001b[0mread_csv\u001b[0m\u001b[0;34m(\u001b[0m\u001b[0;34m'fire_rhyme.csv'\u001b[0m\u001b[0;34m)\u001b[0m\u001b[0;34m\u001b[0m\u001b[0;34m\u001b[0m\u001b[0m\n",
      "\u001b[0;32m/usr/local/lib/python3.6/dist-packages/pandas/io/parsers.py\u001b[0m in \u001b[0;36mread_csv\u001b[0;34m(filepath_or_buffer, sep, delimiter, header, names, index_col, usecols, squeeze, prefix, mangle_dupe_cols, dtype, engine, converters, true_values, false_values, skipinitialspace, skiprows, skipfooter, nrows, na_values, keep_default_na, na_filter, verbose, skip_blank_lines, parse_dates, infer_datetime_format, keep_date_col, date_parser, dayfirst, cache_dates, iterator, chunksize, compression, thousands, decimal, lineterminator, quotechar, quoting, doublequote, escapechar, comment, encoding, dialect, error_bad_lines, warn_bad_lines, delim_whitespace, low_memory, memory_map, float_precision)\u001b[0m\n\u001b[1;32m    686\u001b[0m     )\n\u001b[1;32m    687\u001b[0m \u001b[0;34m\u001b[0m\u001b[0m\n\u001b[0;32m--> 688\u001b[0;31m     \u001b[0;32mreturn\u001b[0m \u001b[0m_read\u001b[0m\u001b[0;34m(\u001b[0m\u001b[0mfilepath_or_buffer\u001b[0m\u001b[0;34m,\u001b[0m \u001b[0mkwds\u001b[0m\u001b[0;34m)\u001b[0m\u001b[0;34m\u001b[0m\u001b[0;34m\u001b[0m\u001b[0m\n\u001b[0m\u001b[1;32m    689\u001b[0m \u001b[0;34m\u001b[0m\u001b[0m\n\u001b[1;32m    690\u001b[0m \u001b[0;34m\u001b[0m\u001b[0m\n",
      "\u001b[0;32m/usr/local/lib/python3.6/dist-packages/pandas/io/parsers.py\u001b[0m in \u001b[0;36m_read\u001b[0;34m(filepath_or_buffer, kwds)\u001b[0m\n\u001b[1;32m    452\u001b[0m \u001b[0;34m\u001b[0m\u001b[0m\n\u001b[1;32m    453\u001b[0m     \u001b[0;31m# Create the parser.\u001b[0m\u001b[0;34m\u001b[0m\u001b[0;34m\u001b[0m\u001b[0;34m\u001b[0m\u001b[0m\n\u001b[0;32m--> 454\u001b[0;31m     \u001b[0mparser\u001b[0m \u001b[0;34m=\u001b[0m \u001b[0mTextFileReader\u001b[0m\u001b[0;34m(\u001b[0m\u001b[0mfp_or_buf\u001b[0m\u001b[0;34m,\u001b[0m \u001b[0;34m**\u001b[0m\u001b[0mkwds\u001b[0m\u001b[0;34m)\u001b[0m\u001b[0;34m\u001b[0m\u001b[0;34m\u001b[0m\u001b[0m\n\u001b[0m\u001b[1;32m    455\u001b[0m \u001b[0;34m\u001b[0m\u001b[0m\n\u001b[1;32m    456\u001b[0m     \u001b[0;32mif\u001b[0m \u001b[0mchunksize\u001b[0m \u001b[0;32mor\u001b[0m \u001b[0miterator\u001b[0m\u001b[0;34m:\u001b[0m\u001b[0;34m\u001b[0m\u001b[0;34m\u001b[0m\u001b[0m\n",
      "\u001b[0;32m/usr/local/lib/python3.6/dist-packages/pandas/io/parsers.py\u001b[0m in \u001b[0;36m__init__\u001b[0;34m(self, f, engine, **kwds)\u001b[0m\n\u001b[1;32m    946\u001b[0m             \u001b[0mself\u001b[0m\u001b[0;34m.\u001b[0m\u001b[0moptions\u001b[0m\u001b[0;34m[\u001b[0m\u001b[0;34m\"has_index_names\"\u001b[0m\u001b[0;34m]\u001b[0m \u001b[0;34m=\u001b[0m \u001b[0mkwds\u001b[0m\u001b[0;34m[\u001b[0m\u001b[0;34m\"has_index_names\"\u001b[0m\u001b[0;34m]\u001b[0m\u001b[0;34m\u001b[0m\u001b[0;34m\u001b[0m\u001b[0m\n\u001b[1;32m    947\u001b[0m \u001b[0;34m\u001b[0m\u001b[0m\n\u001b[0;32m--> 948\u001b[0;31m         \u001b[0mself\u001b[0m\u001b[0;34m.\u001b[0m\u001b[0m_make_engine\u001b[0m\u001b[0;34m(\u001b[0m\u001b[0mself\u001b[0m\u001b[0;34m.\u001b[0m\u001b[0mengine\u001b[0m\u001b[0;34m)\u001b[0m\u001b[0;34m\u001b[0m\u001b[0;34m\u001b[0m\u001b[0m\n\u001b[0m\u001b[1;32m    949\u001b[0m \u001b[0;34m\u001b[0m\u001b[0m\n\u001b[1;32m    950\u001b[0m     \u001b[0;32mdef\u001b[0m \u001b[0mclose\u001b[0m\u001b[0;34m(\u001b[0m\u001b[0mself\u001b[0m\u001b[0;34m)\u001b[0m\u001b[0;34m:\u001b[0m\u001b[0;34m\u001b[0m\u001b[0;34m\u001b[0m\u001b[0m\n",
      "\u001b[0;32m/usr/local/lib/python3.6/dist-packages/pandas/io/parsers.py\u001b[0m in \u001b[0;36m_make_engine\u001b[0;34m(self, engine)\u001b[0m\n\u001b[1;32m   1178\u001b[0m     \u001b[0;32mdef\u001b[0m \u001b[0m_make_engine\u001b[0m\u001b[0;34m(\u001b[0m\u001b[0mself\u001b[0m\u001b[0;34m,\u001b[0m \u001b[0mengine\u001b[0m\u001b[0;34m=\u001b[0m\u001b[0;34m\"c\"\u001b[0m\u001b[0;34m)\u001b[0m\u001b[0;34m:\u001b[0m\u001b[0;34m\u001b[0m\u001b[0;34m\u001b[0m\u001b[0m\n\u001b[1;32m   1179\u001b[0m         \u001b[0;32mif\u001b[0m \u001b[0mengine\u001b[0m \u001b[0;34m==\u001b[0m \u001b[0;34m\"c\"\u001b[0m\u001b[0;34m:\u001b[0m\u001b[0;34m\u001b[0m\u001b[0;34m\u001b[0m\u001b[0m\n\u001b[0;32m-> 1180\u001b[0;31m             \u001b[0mself\u001b[0m\u001b[0;34m.\u001b[0m\u001b[0m_engine\u001b[0m \u001b[0;34m=\u001b[0m \u001b[0mCParserWrapper\u001b[0m\u001b[0;34m(\u001b[0m\u001b[0mself\u001b[0m\u001b[0;34m.\u001b[0m\u001b[0mf\u001b[0m\u001b[0;34m,\u001b[0m \u001b[0;34m**\u001b[0m\u001b[0mself\u001b[0m\u001b[0;34m.\u001b[0m\u001b[0moptions\u001b[0m\u001b[0;34m)\u001b[0m\u001b[0;34m\u001b[0m\u001b[0;34m\u001b[0m\u001b[0m\n\u001b[0m\u001b[1;32m   1181\u001b[0m         \u001b[0;32melse\u001b[0m\u001b[0;34m:\u001b[0m\u001b[0;34m\u001b[0m\u001b[0;34m\u001b[0m\u001b[0m\n\u001b[1;32m   1182\u001b[0m             \u001b[0;32mif\u001b[0m \u001b[0mengine\u001b[0m \u001b[0;34m==\u001b[0m \u001b[0;34m\"python\"\u001b[0m\u001b[0;34m:\u001b[0m\u001b[0;34m\u001b[0m\u001b[0;34m\u001b[0m\u001b[0m\n",
      "\u001b[0;32m/usr/local/lib/python3.6/dist-packages/pandas/io/parsers.py\u001b[0m in \u001b[0;36m__init__\u001b[0;34m(self, src, **kwds)\u001b[0m\n\u001b[1;32m   2008\u001b[0m         \u001b[0mkwds\u001b[0m\u001b[0;34m[\u001b[0m\u001b[0;34m\"usecols\"\u001b[0m\u001b[0;34m]\u001b[0m \u001b[0;34m=\u001b[0m \u001b[0mself\u001b[0m\u001b[0;34m.\u001b[0m\u001b[0musecols\u001b[0m\u001b[0;34m\u001b[0m\u001b[0;34m\u001b[0m\u001b[0m\n\u001b[1;32m   2009\u001b[0m \u001b[0;34m\u001b[0m\u001b[0m\n\u001b[0;32m-> 2010\u001b[0;31m         \u001b[0mself\u001b[0m\u001b[0;34m.\u001b[0m\u001b[0m_reader\u001b[0m \u001b[0;34m=\u001b[0m \u001b[0mparsers\u001b[0m\u001b[0;34m.\u001b[0m\u001b[0mTextReader\u001b[0m\u001b[0;34m(\u001b[0m\u001b[0msrc\u001b[0m\u001b[0;34m,\u001b[0m \u001b[0;34m**\u001b[0m\u001b[0mkwds\u001b[0m\u001b[0;34m)\u001b[0m\u001b[0;34m\u001b[0m\u001b[0;34m\u001b[0m\u001b[0m\n\u001b[0m\u001b[1;32m   2011\u001b[0m         \u001b[0mself\u001b[0m\u001b[0;34m.\u001b[0m\u001b[0munnamed_cols\u001b[0m \u001b[0;34m=\u001b[0m \u001b[0mself\u001b[0m\u001b[0;34m.\u001b[0m\u001b[0m_reader\u001b[0m\u001b[0;34m.\u001b[0m\u001b[0munnamed_cols\u001b[0m\u001b[0;34m\u001b[0m\u001b[0;34m\u001b[0m\u001b[0m\n\u001b[1;32m   2012\u001b[0m \u001b[0;34m\u001b[0m\u001b[0m\n",
      "\u001b[0;32mpandas/_libs/parsers.pyx\u001b[0m in \u001b[0;36mpandas._libs.parsers.TextReader.__cinit__\u001b[0;34m()\u001b[0m\n",
      "\u001b[0;32mpandas/_libs/parsers.pyx\u001b[0m in \u001b[0;36mpandas._libs.parsers.TextReader._setup_parser_source\u001b[0;34m()\u001b[0m\n",
      "\u001b[0;31mFileNotFoundError\u001b[0m: [Errno 2] No such file or directory: 'air_rhyme.csv'"
     ]
    }
   ],
   "source": [
    "raw_air = pd.read_csv('air_rhyme.csv')\n",
    "raw_all = pd.read_csv('all_rhyme.csv')\n",
    "raw_blue = pd.read_csv('blue_rhyme.csv')\n",
    "raw_chance = pd.read_csv('chance_rhyme.csv')\n",
    "raw_fire = pd.read_csv('fire_rhyme.csv')\n",
    "raw_glass = pd.read_csv('glass_rhyme.csv')\n",
    "raw_joy = pd.read_csv('joy_rhyme.csv')\n",
    "raw_king = pd.read_csv('king_rhyme.csv')\n",
    "raw_light = pd.read_csv('light_rhyme.csv')\n",
    "raw_love = pd.read_csv('love_rhyme.csv')\n",
    "raw_mind = pd.read_csv('mind_rhyme.csv')\n",
    "raw_new = pd.read_csv('new_rhyme.csv')\n",
    "raw_peace = pd.read_csv('peace_rhyme.csv')\n",
    "raw_pride = pd.read_csv('pride_rhyme.csv')\n",
    "raw_red = pd.read_csv('red_rhyme.csv')"
   ]
  },
  {
   "cell_type": "markdown",
   "metadata": {
    "id": "ASnrkqIA4AZC"
   },
   "source": [
    "# Data Preparation"
   ]
  },
  {
   "cell_type": "markdown",
   "metadata": {
    "id": "d7ohMKlW-Rca"
   },
   "source": [
    "  In here, we create dataframe from the imported csv files and clean the dataframe\n"
   ]
  },
  {
   "cell_type": "markdown",
   "metadata": {
    "id": "D5jP2nLK9j08"
   },
   "source": [
    "## Dataframe"
   ]
  },
  {
   "cell_type": "code",
   "execution_count": null,
   "metadata": {
    "executionInfo": {
     "elapsed": 2791,
     "status": "aborted",
     "timestamp": 1606913150356,
     "user": {
      "displayName": "Tomiris Mukhamedgaliyeva",
      "photoUrl": "https://lh3.googleusercontent.com/a-/AOh14GjT6vf2PtOyGe7JX2RNvaYVv-F1OYoNHISquCYokYU=s64",
      "userId": "17541737561831370854"
     },
     "user_tz": -480
    },
    "id": "A8m2IHnhfT8e"
   },
   "outputs": [],
   "source": [
    "df_air = raw_air.copy()\n",
    "df_all = raw_all.copy()\n",
    "df_blue = raw_blue.copy()\n",
    "df_chance = raw_chance.copy()\n",
    "df_fire = raw_fire.copy()\n",
    "df_glass = raw_glass.copy()\n",
    "df_joy = raw_joy.copy()\n",
    "df_king = raw_king.copy()\n",
    "df_light = raw_light.copy()\n",
    "df_love = raw_love.copy()\n",
    "df_mind = raw_mind.copy()\n",
    "df_new = raw_new.copy()\n",
    "df_peace = raw_peace.copy()\n",
    "df_pride = raw_pride.copy()\n",
    "df_red = raw_red.copy()"
   ]
  },
  {
   "cell_type": "code",
   "execution_count": null,
   "metadata": {
    "executionInfo": {
     "elapsed": 2789,
     "status": "aborted",
     "timestamp": 1606913150357,
     "user": {
      "displayName": "Tomiris Mukhamedgaliyeva",
      "photoUrl": "https://lh3.googleusercontent.com/a-/AOh14GjT6vf2PtOyGe7JX2RNvaYVv-F1OYoNHISquCYokYU=s64",
      "userId": "17541737561831370854"
     },
     "user_tz": -480
    },
    "id": "sw_umQsTfXET"
   },
   "outputs": [],
   "source": [
    "# Set Number of Columns and rows\n",
    "pd.options.display.max_columns = None #try number\n",
    "pd.options.display.max_rows = None  "
   ]
  },
  {
   "cell_type": "code",
   "execution_count": null,
   "metadata": {
    "executionInfo": {
     "elapsed": 2788,
     "status": "aborted",
     "timestamp": 1606913150358,
     "user": {
      "displayName": "Tomiris Mukhamedgaliyeva",
      "photoUrl": "https://lh3.googleusercontent.com/a-/AOh14GjT6vf2PtOyGe7JX2RNvaYVv-F1OYoNHISquCYokYU=s64",
      "userId": "17541737561831370854"
     },
     "user_tz": -480
    },
    "id": "mB9svSVGfaIs"
   },
   "outputs": [],
   "source": [
    "#combine all the dataframe into one, concat - to combine together\n",
    "df = pd.concat([df_air, df_all, df_blue, df_chance, df_fire, df_glass, df_joy, df_king, df_light, df_love, df_mind, df_new, df_peace, df_pride, df_red], axis =1)"
   ]
  },
  {
   "cell_type": "code",
   "execution_count": null,
   "metadata": {
    "executionInfo": {
     "elapsed": 2774,
     "status": "aborted",
     "timestamp": 1606913150359,
     "user": {
      "displayName": "Tomiris Mukhamedgaliyeva",
      "photoUrl": "https://lh3.googleusercontent.com/a-/AOh14GjT6vf2PtOyGe7JX2RNvaYVv-F1OYoNHISquCYokYU=s64",
      "userId": "17541737561831370854"
     },
     "user_tz": -480
    },
    "id": "FCGbRi7sYrJU"
   },
   "outputs": [],
   "source": [
    "#show a few data from top, check\n",
    "df.head(100)"
   ]
  },
  {
   "cell_type": "code",
   "execution_count": null,
   "metadata": {
    "executionInfo": {
     "elapsed": 2773,
     "status": "aborted",
     "timestamp": 1606913150360,
     "user": {
      "displayName": "Tomiris Mukhamedgaliyeva",
      "photoUrl": "https://lh3.googleusercontent.com/a-/AOh14GjT6vf2PtOyGe7JX2RNvaYVv-F1OYoNHISquCYokYU=s64",
      "userId": "17541737561831370854"
     },
     "user_tz": -480
    },
    "id": "t68vyjOhfK9H"
   },
   "outputs": [],
   "source": []
  },
  {
   "cell_type": "code",
   "execution_count": null,
   "metadata": {
    "executionInfo": {
     "elapsed": 2771,
     "status": "aborted",
     "timestamp": 1606913150362,
     "user": {
      "displayName": "Tomiris Mukhamedgaliyeva",
      "photoUrl": "https://lh3.googleusercontent.com/a-/AOh14GjT6vf2PtOyGe7JX2RNvaYVv-F1OYoNHISquCYokYU=s64",
      "userId": "17541737561831370854"
     },
     "user_tz": -480
    },
    "id": "dvPriHzGfHJx"
   },
   "outputs": [],
   "source": []
  },
  {
   "cell_type": "markdown",
   "metadata": {
    "id": "_HE-eizR6KGC"
   },
   "source": [
    "### 3.2. Clean Dataframe\n",
    "\n",
    "---\n",
    "\n"
   ]
  },
  {
   "cell_type": "code",
   "execution_count": null,
   "metadata": {
    "executionInfo": {
     "elapsed": 2764,
     "status": "aborted",
     "timestamp": 1606913150362,
     "user": {
      "displayName": "Tomiris Mukhamedgaliyeva",
      "photoUrl": "https://lh3.googleusercontent.com/a-/AOh14GjT6vf2PtOyGe7JX2RNvaYVv-F1OYoNHISquCYokYU=s64",
      "userId": "17541737561831370854"
     },
     "user_tz": -480
    },
    "id": "4J-EV2MxfmHX"
   },
   "outputs": [],
   "source": [
    "df.info()"
   ]
  },
  {
   "cell_type": "code",
   "execution_count": null,
   "metadata": {
    "executionInfo": {
     "elapsed": 2762,
     "status": "aborted",
     "timestamp": 1606913150363,
     "user": {
      "displayName": "Tomiris Mukhamedgaliyeva",
      "photoUrl": "https://lh3.googleusercontent.com/a-/AOh14GjT6vf2PtOyGe7JX2RNvaYVv-F1OYoNHISquCYokYU=s64",
      "userId": "17541737561831370854"
     },
     "user_tz": -480
    },
    "id": "BWh1DQXffjGd"
   },
   "outputs": [],
   "source": [
    "# Drop rows with empty value\n",
    "df.dropna(inplace=True)"
   ]
  },
  {
   "cell_type": "code",
   "execution_count": null,
   "metadata": {
    "executionInfo": {
     "elapsed": 2761,
     "status": "aborted",
     "timestamp": 1606913150364,
     "user": {
      "displayName": "Tomiris Mukhamedgaliyeva",
      "photoUrl": "https://lh3.googleusercontent.com/a-/AOh14GjT6vf2PtOyGe7JX2RNvaYVv-F1OYoNHISquCYokYU=s64",
      "userId": "17541737561831370854"
     },
     "user_tz": -480
    },
    "id": "JCeZnTbtfvU6"
   },
   "outputs": [],
   "source": [
    "df = df.astype(str)"
   ]
  },
  {
   "cell_type": "code",
   "execution_count": null,
   "metadata": {
    "executionInfo": {
     "elapsed": 2754,
     "status": "aborted",
     "timestamp": 1606913150365,
     "user": {
      "displayName": "Tomiris Mukhamedgaliyeva",
      "photoUrl": "https://lh3.googleusercontent.com/a-/AOh14GjT6vf2PtOyGe7JX2RNvaYVv-F1OYoNHISquCYokYU=s64",
      "userId": "17541737561831370854"
     },
     "user_tz": -480
    },
    "id": "jDdHC953f6tK"
   },
   "outputs": [],
   "source": [
    "df.info()"
   ]
  },
  {
   "cell_type": "markdown",
   "metadata": {
    "id": "tWKn5KKM_CrH"
   },
   "source": [
    "# 4. **Process**\n",
    "\n",
    "---\n",
    "\n"
   ]
  },
  {
   "cell_type": "markdown",
   "metadata": {
    "id": "4xdteRde6P-q"
   },
   "source": [
    "### 4.1. Get user Input\n",
    "\n",
    "\n",
    "---\n",
    "\n",
    "\n"
   ]
  },
  {
   "cell_type": "code",
   "execution_count": null,
   "metadata": {
    "executionInfo": {
     "elapsed": 2747,
     "status": "aborted",
     "timestamp": 1606913150366,
     "user": {
      "displayName": "Tomiris Mukhamedgaliyeva",
      "photoUrl": "https://lh3.googleusercontent.com/a-/AOh14GjT6vf2PtOyGe7JX2RNvaYVv-F1OYoNHISquCYokYU=s64",
      "userId": "17541737561831370854"
     },
     "user_tz": -480
    },
    "id": "dzFbAXxwf9XY"
   },
   "outputs": [],
   "source": [
    "# get user input then take the 2 last letters\n",
    "print(\"Enter Search Rhyme words:\")\n",
    "usr_input= input()\n",
    "lengthOfInput =len(usr_input)\n",
    "if(lengthOfInput>=3):\n",
    "  sub = usr_input[(lengthOfInput-2):]\n",
    "else:\n",
    "  sub = usr_input[:]"
   ]
  },
  {
   "cell_type": "markdown",
   "metadata": {
    "id": "I_0IDCbF7zCK"
   },
   "source": [
    "### 4.2. Search rhymes in dataframe\n",
    "\n",
    "---\n",
    "\n"
   ]
  },
  {
   "cell_type": "markdown",
   "metadata": {
    "id": "9_eAOV3wAWNp"
   },
   "source": [
    "Select suitable column and display the data which ryhme with user input"
   ]
  },
  {
   "cell_type": "code",
   "execution_count": null,
   "metadata": {
    "executionInfo": {
     "elapsed": 2737,
     "status": "aborted",
     "timestamp": 1606913150367,
     "user": {
      "displayName": "Tomiris Mukhamedgaliyeva",
      "photoUrl": "https://lh3.googleusercontent.com/a-/AOh14GjT6vf2PtOyGe7JX2RNvaYVv-F1OYoNHISquCYokYU=s64",
      "userId": "17541737561831370854"
     },
     "user_tz": -480
    },
    "id": "936q0XVsgA0e"
   },
   "outputs": [],
   "source": [
    "#Choose the column based on the end words\n",
    "end = ['ir','ll','ue','ce','re','ss','en','oy','ng','ht','ve','nd','ew','ce','de','ed']\n",
    "\n",
    "if   sub ==end[0]:\n",
    "  choosenColumn =\"Word_rhyme_with_air\"\n",
    "elif sub == end[1]:\n",
    "  choosenColumn =\"Word_rhyme_with_all\"\n",
    "elif sub == end[2]:\n",
    "  choosenColumn =\"Word_rhyme_with_blue\"\n",
    "elif sub == end[3]:\n",
    "  choosenColumn =\"Word_rhyme_with_chance\"\n",
    "elif sub == end[4]:\n",
    "  choosenColumn =\"Word_rhyme_with_fire\"\n",
    "elif sub == end[5]:\n",
    "  choosenColumn =\"Word_rhyme_with_glass\"\n",
    "elif sub == end[6]:\n",
    "  choosenColumn =\"Word_rhyme_with_green\"\n",
    "elif sub == end[7]:\n",
    "  choosenColumn =\"Word_rhyme_with_joy\"\n",
    "elif sub == end[8]:\n",
    "  choosenColumn =\"Word_rhyme_with_king\"\n",
    "elif sub == end[9]:\n",
    "  choosenColumn =\"Word_rhyme_with_light\"\n",
    "elif sub == end[10]:\n",
    "  choosenColumn =\"Word_rhyme_with_love\"\n",
    "elif sub == end[11]:\n",
    "  choosenColumn =\"Word_rhyme_with_mind\"\n",
    "elif sub == end[12]:\n",
    "  choosenColumn =\"Word_rhyme_with_new\"\n",
    "elif sub == end[13]:\n",
    "  choosenColumn =\"Word_rhyme_with_peace\"\n",
    "elif sub == end[14]:\n",
    "  choosenColumn =\"Word_rhyme_with_pride\"\n",
    "elif sub == end[15]:\n",
    "  choosenColumn =\"Word_rhyme_with_red\"\n",
    "else:\n",
    "  choosenColumn =\"unknown\"\n",
    "\n",
    "print(choosenColumn)\n"
   ]
  },
  {
   "cell_type": "code",
   "execution_count": null,
   "metadata": {
    "executionInfo": {
     "elapsed": 2735,
     "status": "aborted",
     "timestamp": 1606913150367,
     "user": {
      "displayName": "Tomiris Mukhamedgaliyeva",
      "photoUrl": "https://lh3.googleusercontent.com/a-/AOh14GjT6vf2PtOyGe7JX2RNvaYVv-F1OYoNHISquCYokYU=s64",
      "userId": "17541737561831370854"
     },
     "user_tz": -480
    },
    "id": "fhmRL_TXgNBh"
   },
   "outputs": [],
   "source": [
    "# Search from choosen column\n",
    "if choosenColumn != \"unknown\":\n",
    "  df[\"idx\"] = df[choosenColumn].str.find(sub)\n",
    "else:\n",
    "  print(\"No data on the word ends with \\\"\"+sub+\"\\\"\")"
   ]
  },
  {
   "cell_type": "markdown",
   "metadata": {
    "id": "I6pCH7XYBMAF"
   },
   "source": [
    "## 4.3. Checking"
   ]
  },
  {
   "cell_type": "code",
   "execution_count": null,
   "metadata": {
    "executionInfo": {
     "elapsed": 2726,
     "status": "aborted",
     "timestamp": 1606913150368,
     "user": {
      "displayName": "Tomiris Mukhamedgaliyeva",
      "photoUrl": "https://lh3.googleusercontent.com/a-/AOh14GjT6vf2PtOyGe7JX2RNvaYVv-F1OYoNHISquCYokYU=s64",
      "userId": "17541737561831370854"
     },
     "user_tz": -480
    },
    "id": "9NKhkTMj7jZc"
   },
   "outputs": [],
   "source": [
    "df.info()\n",
    "print(\"\\n\")\n",
    "df"
   ]
  },
  {
   "cell_type": "markdown",
   "metadata": {
    "id": "MdQ-EGOxBRLz"
   },
   "source": [
    "## 4.4. Display Rhymes"
   ]
  },
  {
   "cell_type": "code",
   "execution_count": null,
   "metadata": {
    "executionInfo": {
     "elapsed": 2717,
     "status": "aborted",
     "timestamp": 1606913150369,
     "user": {
      "displayName": "Tomiris Mukhamedgaliyeva",
      "photoUrl": "https://lh3.googleusercontent.com/a-/AOh14GjT6vf2PtOyGe7JX2RNvaYVv-F1OYoNHISquCYokYU=s64",
      "userId": "17541737561831370854"
     },
     "user_tz": -480
    },
    "id": "cdMlDLflgXE1"
   },
   "outputs": [],
   "source": [
    "if (choosenColumn != \"unknown\"):\n",
    "  #drop row based on condition\n",
    "  df.drop(df[df['idx'] < 1].index, inplace = True) \n",
    "  print (df[choosenColumn].to_string(index=False)) #output the data only\n",
    "\n",
    "else:\n",
    "  print(\"No data on the word ends with \\\"\"+sub+\"\\\"\")"
   ]
  }
 ],
 "metadata": {
  "colab": {
   "collapsed_sections": [],
   "name": "Prototype_Rhymes.ipynb",
   "provenance": [],
   "toc_visible": true
  },
  "kernelspec": {
   "display_name": "Python 3",
   "language": "python",
   "name": "python3"
  },
  "language_info": {
   "codemirror_mode": {
    "name": "ipython",
    "version": 3
   },
   "file_extension": ".py",
   "mimetype": "text/x-python",
   "name": "python",
   "nbconvert_exporter": "python",
   "pygments_lexer": "ipython3",
   "version": "3.8.3"
  }
 },
 "nbformat": 4,
 "nbformat_minor": 1
}
